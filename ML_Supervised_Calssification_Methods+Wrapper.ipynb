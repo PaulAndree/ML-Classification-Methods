{
 "cells": [
  {
   "cell_type": "code",
   "execution_count": 1,
   "id": "8a8b960c",
   "metadata": {},
   "outputs": [],
   "source": [
    "from sklearn.neighbors import KNeighborsClassifier\n",
    "from sklearn.tree import DecisionTreeClassifier\n",
    "from sklearn.ensemble import RandomForestClassifier\n",
    "from sklearn.neural_network import MLPClassifier\n",
    "from sklearn.model_selection import cross_val_score\n",
    "from sklearn.metrics import confusion_matrix\n",
    "from sklearn.model_selection import KFold\n",
    "import matplotlib.pyplot as plt\n",
    "from sklearn.metrics import confusion_matrix, ConfusionMatrixDisplay\n",
    "import wittgenstein as lw\n",
    "from sklearn.svm import SVC\n",
    "import numpy as np\n",
    "import pandas as pd\n",
    "import os\n",
    "\n",
    "import warnings\n"
   ]
  },
  {
   "cell_type": "code",
   "execution_count": 2,
   "id": "cddb59cb",
   "metadata": {},
   "outputs": [],
   "source": [
    "file_path = os.path.abspath(\"Balanced_Bankruptcy.csv\")\n",
    "df_prime = pd.read_csv(file_path)\n",
    "\n",
    "df = df_prime\n",
    "df = df.drop(\"Bankrupt?\", axis='columns')\n",
    "\n",
    "#only c values\n",
    "target = df_prime[\"Bankrupt?\"].to_numpy()\n",
    "#data without the c\n",
    "data  = df.to_numpy()\n",
    "\n"
   ]
  },
  {
   "cell_type": "code",
   "execution_count": 20,
   "id": "9cc23367",
   "metadata": {},
   "outputs": [
    {
     "data": {
      "image/png": "[encoded data removed]",
      "text/plain": [
       "<Figure size 432x288 with 1 Axes>"
      ]
     },
     "metadata": {
      "needs_background": "light"
     },
     "output_type": "display_data"
    }
   ],
   "source": [
    "from mlxtend.feature_selection import SequentialFeatureSelector as SFS\n",
    "from mlxtend.plotting import plot_sequential_feature_selection as plot_sfs\n",
    "import matplotlib.pyplot as plt\n",
    "\n",
    "def get_confussion_matrix(mean_of_model,title):\n",
    "    disp = ConfusionMatrixDisplay(confusion_matrix=mean_of_model)\n",
    "    disp.plot(cmap='Oranges',values_format='.3g')\n",
    "    plt.title(f' model: {title}')\n",
    "    plt.show()\n",
    "    return\n",
    "\n",
    "def get_score(modelo, data, target):\n",
    "    kf = KFold(n_splits=5)\n",
    "    \n",
    "    conf_matrix_list_of_arrays = []\n",
    "    scores = []\n",
    "\n",
    "    for train_index, test_index in kf.split(data,target):\n",
    "        trainX, testX = data[train_index], data[test_index]\n",
    "        trainY, testY = target[train_index], target[test_index]\n",
    "        model = modelo\n",
    "        model.fit(trainX, trainY) #confussion Matrix storage for error metrics\n",
    "        conf_matrix = confusion_matrix(testY, model.predict(testX))\n",
    "        conf_matrix_list_of_arrays.append(conf_matrix)\n",
    "        \n",
    "        scores.append(model.score(testX, testY)) #scores storgae for accuracy value\n",
    "        \n",
    "    mean_of_conf_matrix_arrays = np.mean(conf_matrix_list_of_arrays, axis=0)\n",
    "    \n",
    "    print(f\" Accuracy for {modelo} is = {np.average(scores)}\")\n",
    "    return mean_of_conf_matrix_arrays\n",
    "\n",
    "def wraper(model,x1,y1): \n",
    "    sfs = SFS(model,\n",
    "             k_features=(3,13),\n",
    "             forward=True,\n",
    "             floating=False,\n",
    "             scoring='accuracy',\n",
    "             cv=0)\n",
    "    sfs.fit(x1, y1)\n",
    "\n",
    "    features_chosen_Wrapper= df.columns[1:][list(sfs.k_feature_idx_)]\n",
    "\n",
    "    #print(features_chosen_Wrapper)\n",
    "    fig1 = plot_sfs(sfs.get_metric_dict(), kind='std_dev')\n",
    "    plt.title(f'Sequential Forward Selection {model} (w. StdErr)')\n",
    "    plt.grid()\n",
    "    plt.show()\n",
    "    \n",
    "    return features_chosen_Wrapper\n",
    "\n",
    "#algorithm = KNeighborsClassifier(n_neighbors=3)\n",
    "#algorithm = lw.RIPPER()\n",
    "#algorithm = SVC(gamma='auto')\n",
    "#algorithm = DecisionTreeClassifier()\n",
    "algorithm = MLPClassifier(activation='tanh', solver='sgd', alpha=0.5)\n",
    "\n",
    "wrapper_features = wraper(algorithm, data, target)\n",
    "\n",
    "warnings.filterwarnings('ignore')"
   ]
  },
  {
   "cell_type": "code",
   "execution_count": 21,
   "id": "570fe972",
   "metadata": {},
   "outputs": [
    {
     "data": {
      "text/html": [
       "<div>\n",
       "<style scoped>\n",
       "    .dataframe tbody tr th:only-of-type {\n",
       "        vertical-align: middle;\n",
       "    }\n",
       "\n",
       "    .dataframe tbody tr th {\n",
       "        vertical-align: top;\n",
       "    }\n",
       "\n",
       "    .dataframe thead th {\n",
       "        text-align: right;\n",
       "    }\n",
       "</style>\n",
       "<table border=\"1\" class=\"dataframe\">\n",
       "  <thead>\n",
       "    <tr style=\"text-align: right;\">\n",
       "      <th></th>\n",
       "      <th>0</th>\n",
       "    </tr>\n",
       "  </thead>\n",
       "  <tbody>\n",
       "    <tr>\n",
       "      <th>0</th>\n",
       "      <td>ROA(A) before interest and % after tax</td>\n",
       "    </tr>\n",
       "    <tr>\n",
       "      <th>1</th>\n",
       "      <td>ROA(B) before interest and depreciation after...</td>\n",
       "    </tr>\n",
       "    <tr>\n",
       "      <th>2</th>\n",
       "      <td>Operating Gross Margin</td>\n",
       "    </tr>\n",
       "    <tr>\n",
       "      <th>3</th>\n",
       "      <td>Non-industry income and expenditure/revenue</td>\n",
       "    </tr>\n",
       "    <tr>\n",
       "      <th>4</th>\n",
       "      <td>Net Value Per Share (B)</td>\n",
       "    </tr>\n",
       "    <tr>\n",
       "      <th>5</th>\n",
       "      <td>Net worth/Assets</td>\n",
       "    </tr>\n",
       "    <tr>\n",
       "      <th>6</th>\n",
       "      <td>Operating profit/Paid-in capital</td>\n",
       "    </tr>\n",
       "    <tr>\n",
       "      <th>7</th>\n",
       "      <td>Current Assets/Total Assets</td>\n",
       "    </tr>\n",
       "    <tr>\n",
       "      <th>8</th>\n",
       "      <td>Quick Assets/Current Liability</td>\n",
       "    </tr>\n",
       "    <tr>\n",
       "      <th>9</th>\n",
       "      <td>Current Liability to Assets</td>\n",
       "    </tr>\n",
       "    <tr>\n",
       "      <th>10</th>\n",
       "      <td>Operating Funds to Liability</td>\n",
       "    </tr>\n",
       "    <tr>\n",
       "      <th>11</th>\n",
       "      <td>Working Capital/Equity</td>\n",
       "    </tr>\n",
       "    <tr>\n",
       "      <th>12</th>\n",
       "      <td>Current Liability to Liability</td>\n",
       "    </tr>\n",
       "  </tbody>\n",
       "</table>\n",
       "</div>"
      ],
      "text/plain": [
       "                                                    0\n",
       "0              ROA(A) before interest and % after tax\n",
       "1    ROA(B) before interest and depreciation after...\n",
       "2                              Operating Gross Margin\n",
       "3         Non-industry income and expenditure/revenue\n",
       "4                             Net Value Per Share (B)\n",
       "5                                    Net worth/Assets\n",
       "6                    Operating profit/Paid-in capital\n",
       "7                         Current Assets/Total Assets\n",
       "8                      Quick Assets/Current Liability\n",
       "9                         Current Liability to Assets\n",
       "10                       Operating Funds to Liability\n",
       "11                             Working Capital/Equity\n",
       "12                     Current Liability to Liability"
      ]
     },
     "execution_count": 21,
     "metadata": {},
     "output_type": "execute_result"
    }
   ],
   "source": [
    "kk = pd.DataFrame(wrapper_features)\n",
    "kk"
   ]
  },
  {
   "cell_type": "code",
   "execution_count": 22,
   "id": "c0bbcac3",
   "metadata": {},
   "outputs": [
    {
     "name": "stdout",
     "output_type": "stream",
     "text": [
      " Accuracy for MLPClassifier(activation='tanh', alpha=0.5, solver='sgd') is = 0.7801654091042984\n"
     ]
    },
    {
     "data": {
      "image/png": "[encoded data removed]",
      "text/plain": [
       "<Figure size 432x288 with 2 Axes>"
      ]
     },
     "metadata": {
      "needs_background": "light"
     },
     "output_type": "display_data"
    }
   ],
   "source": [
    "WRAPPER2 = df[wrapper_features]\n",
    "\n",
    "X= WRAPPER2.to_numpy()\n",
    "y = target\n",
    "\n",
    "RIPPER_matrix4 = get_score(algorithm,X, y)\n",
    "get_confussion_matrix(RIPPER_matrix4, title = \"  Wraper\")\n",
    "\n",
    "warnings.filterwarnings('ignore')"
   ]
  }
 ],
 "metadata": {
  "kernelspec": {
   "display_name": "Python 3 (ipykernel)",
   "language": "python",
   "name": "python3"
  },
  "language_info": {
   "codemirror_mode": {
    "name": "ipython",
    "version": 3
   },
   "file_extension": ".py",
   "mimetype": "text/x-python",
   "name": "python",
   "nbconvert_exporter": "python",
   "pygments_lexer": "ipython3",
   "version": "3.9.7"
  }
 },
 "nbformat": 4,
 "nbformat_minor": 5
}
