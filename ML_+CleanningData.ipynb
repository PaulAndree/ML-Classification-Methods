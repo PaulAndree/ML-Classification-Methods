{
 "cells": [
  {
   "cell_type": "code",
   "execution_count": 1,
   "id": "ca7afbb0",
   "metadata": {},
   "outputs": [],
   "source": [
    "from sklearn.model_selection import cross_val_predict\n",
    "from sklearn.neighbors import KNeighborsClassifier\n",
    "import numpy as np\n",
    "import pandas as pd\n",
    "import matplotlib.pyplot as plt\n",
    "from collections import Counter\n",
    "import os"
   ]
  },
  {
   "cell_type": "code",
   "execution_count": 2,
   "id": "d987e15e",
   "metadata": {},
   "outputs": [
    {
     "name": "stdout",
     "output_type": "stream",
     "text": [
      "(6819, 94)\n",
      "Bankrupt?                                                   0\n",
      " ROA(C) before interest and depreciation before interest    0\n",
      " ROA(A) before interest and % after tax                     0\n",
      " ROA(B) before interest and depreciation after tax          0\n",
      " Operating Gross Margin                                     0\n",
      "                                                           ..\n",
      " Net Income to Stockholder's Equity                         0\n",
      " Liability to Equity                                        0\n",
      " Degree of Financial Leverage (DFL)                         0\n",
      " Interest Coverage Ratio (Interest expense to EBIT)         0\n",
      " Equity to Liability                                        0\n",
      "Length: 94, dtype: int64\n"
     ]
    }
   ],
   "source": [
    "file_path = os.path.abspath(\"Full_Data_Bankruptcy.csv\")\n",
    "df_prime = pd.read_csv(file_path)\n",
    "\n",
    "#BASIC CLEANING\n",
    "\n",
    "df_prime=df_prime.drop(' Net Income Flag',axis=1)\n",
    "df_prime=df_prime.drop(' Liability-Assets Flag',axis=1)\n",
    "print(df_prime.shape)\n",
    "print(df_prime.isnull().sum())\n",
    "#df_prime.info()"
   ]
  },
  {
   "cell_type": "code",
   "execution_count": 3,
   "id": "7d9430b8",
   "metadata": {},
   "outputs": [
    {
     "name": "stdout",
     "output_type": "stream",
     "text": [
      "0    6599\n",
      "1     220\n",
      "Name: Bankrupt?, dtype: int64\n"
     ]
    },
    {
     "data": {
      "text/plain": [
       "Text(0.5, 1.0, 'Target feature - Bankrupt?')"
      ]
     },
     "execution_count": 3,
     "metadata": {},
     "output_type": "execute_result"
    },
    {
     "data": {
      "image/png": "[encoded data removed]",
      "text/plain": [
       "<Figure size 432x288 with 1 Axes>"
      ]
     },
     "metadata": {
      "needs_background": "light"
     },
     "output_type": "display_data"
    }
   ],
   "source": [
    "import matplotlib.pyplot as plt\n",
    "import seaborn as sns\n",
    "%matplotlib inline\n",
    "\n",
    "\n",
    "print(df_prime['Bankrupt?'].value_counts())\n",
    "sns.countplot(x=df_prime['Bankrupt?'])\n",
    "plt.title('Target feature - Bankrupt?')"
   ]
  },
  {
   "cell_type": "markdown",
   "id": "1bec9f66",
   "metadata": {},
   "source": [
    "# OVERSAMPLING THE DATA"
   ]
  },
  {
   "cell_type": "code",
   "execution_count": 4,
   "id": "f98062c9",
   "metadata": {},
   "outputs": [
    {
     "name": "stdout",
     "output_type": "stream",
     "text": [
      "0    3599\n",
      "1    1100\n",
      "Name: Bankrupt?, dtype: int64\n"
     ]
    },
    {
     "data": {
      "text/plain": [
       "Text(0.5, 1.0, 'Target feature - Bankrupt?')"
      ]
     },
     "execution_count": 4,
     "metadata": {},
     "output_type": "execute_result"
    },
    {
     "data": {
      "image/png": "[encoded data removed]",
      "text/plain": [
       "<Figure size 432x288 with 1 Axes>"
      ]
     },
     "metadata": {
      "needs_background": "light"
     },
     "output_type": "display_data"
    }
   ],
   "source": [
    "\n",
    "# Split DataFrame by bankruptcy\n",
    "grouped = df_prime.groupby(df_prime['Bankrupt?'] == 1)\n",
    "\n",
    "# Get subsets\n",
    "Bankrutcy = grouped.get_group(True)\n",
    "NoBankrutcy = grouped.get_group(False)\n",
    "\n",
    "\n",
    "#NoBankrutcy['Bankrupt?'].value_counts()\n",
    "\n",
    "\n",
    "\n",
    "#UNDERsampling the X data by substracting some data from the table\n",
    "# Generate random indices\n",
    "indices = np.random.choice(NoBankrutcy.index, size=3000, replace=False)\n",
    "# Remove rows at random\n",
    "NoBankrutcy = NoBankrutcy.drop(indices)\n",
    "\n",
    "\n",
    "\n",
    "#OVERSAMPLING Y data\n",
    "Bankrutcy_new = pd.DataFrame(np.repeat(Bankrutcy.values, 5, axis=0))\n",
    "Bankrutcy_new.columns = Bankrutcy.columns\n",
    "Bankrutcy_new['Bankrupt?'] = Bankrutcy_new['Bankrupt?'].astype(int)\n",
    "\n",
    "\n",
    "#RESET INDEXES BEFORE TO MERGE BOTH DF\n",
    "NoBankrutcy = NoBankrutcy.reset_index(drop=True)\n",
    "Bankrutcy = Bankrutcy.reset_index(drop=True)\n",
    "\n",
    "frames = [NoBankrutcy, Bankrutcy_new]\n",
    "\n",
    "df = pd.concat(frames)\n",
    "#SHUFFLE THE ROWS\n",
    "df = df.sample(frac = 1)\n",
    "print(df['Bankrupt?'].value_counts())\n",
    "\n",
    "#plotting the DF frame\n",
    "sns.countplot(x=df['Bankrupt?'])\n",
    "plt.title('Target feature - Bankrupt?')"
   ]
  },
  {
   "cell_type": "code",
   "execution_count": 112,
   "id": "997e8303",
   "metadata": {},
   "outputs": [],
   "source": [
    "df.to_csv(index=False)\n",
    "df.to_csv(r'./Balanced_Bankruptcy.csv', index=False)\n"
   ]
  }
 ],
 "metadata": {
  "kernelspec": {
   "display_name": "Python 3 (ipykernel)",
   "language": "python",
   "name": "python3"
  },
  "language_info": {
   "codemirror_mode": {
    "name": "ipython",
    "version": 3
   },
   "file_extension": ".py",
   "mimetype": "text/x-python",
   "name": "python",
   "nbconvert_exporter": "python",
   "pygments_lexer": "ipython3",
   "version": "3.9.7"
  }
 },
 "nbformat": 4,
 "nbformat_minor": 5
}
